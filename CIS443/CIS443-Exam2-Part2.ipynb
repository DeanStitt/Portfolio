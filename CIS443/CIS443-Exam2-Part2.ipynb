{
 "cells": [
  {
   "cell_type": "markdown",
   "metadata": {},
   "source": [
    "# CIS 443 Exam 2, Part 2 Notebook\n",
    "## 35 pts.\n",
    "## Directions\n",
    "1. Add your Grading ID below.\n",
    "1. Answer each question in the cells provided.\n",
    "1. When finished, save your work, close the Jupyter Lab file, and Shut Down Jupyter Lab. You will upload this Jupyter Notebook file as your submission to Question 1 in Exam 2, Part 2 in Blackboard.\n",
    "1. Be sure to keep an unaltered version of this file just in case anything goes wrong in Blackboard.\n",
    "\n",
    "__Grading ID__: ADD HERE (double click the cell in Jupyter to edit)"
   ]
  },
  {
   "cell_type": "markdown",
   "metadata": {},
   "source": [
    "### Problem 1\n",
    "Write a Python code fragment in the code cell below that reads a line of text, tokenizes the line using space characters as delimiters and outputs only those words beginning with the letter 't'. Ignore the case of the words. (__5 pts.__)"
   ]
  },
  {
   "cell_type": "code",
   "execution_count": 42,
   "metadata": {},
   "outputs": [
    {
     "name": "stdout",
     "output_type": "stream",
     "text": [
      "Enter your text: time to Test it out\n",
      "time\n",
      "to\n",
      "test\n"
     ]
    }
   ],
   "source": [
    "s = input(\"Enter your text: \")\n",
    "s = s.lower()\n",
    "for i in s.split(' '):\n",
    "    if i.startswith('t'):\n",
    "        print(i)\n"
   ]
  },
  {
   "cell_type": "markdown",
   "metadata": {},
   "source": [
    "### Problem 2\n",
    "Write a Python code fragment in the code cell below that uses a _list comprehension_ to map the range of integers from 1 through 10 (inclusive) onto each value's triple (that is the value times 3) but filtered to only operate on the even numbers in the range (producing the triple of 2, the triple of 4, etc.). (__5 pts.__)"
   ]
  },
  {
   "cell_type": "code",
   "execution_count": 9,
   "metadata": {},
   "outputs": [
    {
     "name": "stdout",
     "output_type": "stream",
     "text": [
      "[6, 12, 18, 24, 30]\n"
     ]
    }
   ],
   "source": [
    "list = [val * 3 for val in range(1,11) if val %2 == 0]\n",
    "print (list)"
   ]
  },
  {
   "cell_type": "markdown",
   "metadata": {},
   "source": [
    "### Problem 3\n",
    "Write a Python code fragment in the code cell below that defines a function named `unique_words` that receives a list of words, then determines and displays in alphabetical order only the unique words. Treat uppercase and lowercase letters the same. The function should use a __set__ to get the unique words in the list. Test your function with several sentences. (__7 pts.__)"
   ]
  },
  {
   "cell_type": "code",
   "execution_count": 40,
   "metadata": {},
   "outputs": [
    {
     "name": "stdout",
     "output_type": "stream",
     "text": [
      "Enter sentence: Ace This Test or get a Bee\n",
      "['a', 'ace', 'bee', 'get', 'or', 'test', 'this']\n"
     ]
    }
   ],
   "source": [
    "def unique_words(list):\n",
    "    list = list.lower()\n",
    "    list1 = [i for i in set(list.split(' '))]\n",
    "    print (sorted(list1))\n",
    "    \n",
    "unique_words(list = input(\"Enter sentence: \") )\n",
    "        "
   ]
  },
  {
   "cell_type": "markdown",
   "metadata": {},
   "source": [
    "### Problem 4\n",
    "Write a Python code fragment in the code cell below that defines a function named `calc_qual_pts` that accepts a letter grade (a string) as a parameter and returns the GPA quality points, as specified below, <u>using a dictionary to map each letter grade to its associated quality points</u>. If the grade is not one of the standard letter grades (A, B, C, D, F), return -1 to indicate this. Test the function with grades of \"A\", \"C\", and \"X\". (__7 pts.__)\n",
    "\n",
    "| Grade | Quality Points |\n",
    "| ----- | -------------- |\n",
    "| A     | 4.0            |\n",
    "| B     | 3.0            |\n",
    "| C     | 2.0            |\n",
    "| D     | 1.0            |\n",
    "| F     | 0.0            |\n",
    "| Otherwise | -1         |"
   ]
  },
  {
   "cell_type": "code",
   "execution_count": 63,
   "metadata": {},
   "outputs": [
    {
     "name": "stdout",
     "output_type": "stream",
     "text": [
      "Enter a string: ex. A C\n",
      "2.0\n"
     ]
    }
   ],
   "source": [
    "def calc_qual_pts(grades):\n",
    "    grades = grades.upper()\n",
    "    grade ={'A': '4.0', 'B': '3.0', 'C': '2.0', 'D': '1.0', 'F': '0.0'}\n",
    "    final = grades in grade\n",
    "    if final == True:\n",
    "        print(grade[grades]) \n",
    "    else:\n",
    "        print(grade.get('grades', -1))\n",
    "calc_qual_pts(grades = input(\"Enter a string: ex. A \"))\n"
   ]
  },
  {
   "cell_type": "markdown",
   "metadata": {},
   "source": [
    "### Problem 5\n",
    "Write a Python code fragment in the code cell below that implements a function named `merge_to_dict` that will accept two parallel lists as parameters, the `key_list` and the `value_list`, and will return a dictionary of the associated key-value pairs. Write your own loop to accomplish this (don't just call `zip`!). You may assume that the lists are the same length. Test with a list of 3 names as keys and a list of 3 scores as the values. (__5 pts.__)"
   ]
  },
  {
   "cell_type": "code",
   "execution_count": 107,
   "metadata": {},
   "outputs": [
    {
     "name": "stdout",
     "output_type": "stream",
     "text": [
      "Enter names: tom som won tan\n",
      "Enter test scores: 80 70 60 50\n",
      "[('tom', 80), ('som', 70), ('won', 60), ('tan', 50)]\n"
     ]
    }
   ],
   "source": [
    "def merge_to_dict(key_list, value_list):\n",
    "    new = {}\n",
    "    new = [ (key_list[i], value_list[i]) for i in range(0, len(key_list))]          \n",
    "    print(new)\n",
    "    \n",
    "key_list = []\n",
    "key_list = [i for i in input(\"Enter names: \").split()]\n",
    "value_list = [int(i) for i in input(\"Enter test scores: \").split()]\n",
    "merge_to_dict(key_list, value_list)"
   ]
  },
  {
   "cell_type": "markdown",
   "metadata": {},
   "source": [
    "### Problem 6\n",
    "Use _arange_ to create a 2-by-2 _ndarray_ containing the numbers 0–3. Use broadcasting to perform each of the following operations on the original array creating a new _ndarray_ and printing its contents: (__2 pts. each__)\n",
    "1. Cube every element of the array.\n",
    "1. Add 7 to every element of the array.\n",
    "1. Multiply every element of the array by 2."
   ]
  },
  {
   "cell_type": "code",
   "execution_count": 131,
   "metadata": {},
   "outputs": [
    {
     "name": "stdout",
     "output_type": "stream",
     "text": [
      "num\n",
      " [[0 1]\n",
      " [2 3]]\n",
      "num2\n",
      " [[ 0  1]\n",
      " [ 8 27]]\n",
      "num3\n",
      " [[ 7  8]\n",
      " [ 9 10]]\n",
      "num4\n",
      " [[0 2]\n",
      " [4 6]]\n"
     ]
    }
   ],
   "source": [
    "import numpy as np\n",
    "num = np.arange(0,4).reshape(2,2)\n",
    "print(f'num\\n',(num))\n",
    "num2 = num**3\n",
    "print(f'num2\\n',(num2))\n",
    "num3 = num+7\n",
    "print(f'num3\\n',(num3))\n",
    "num4 = num*2\n",
    "print(f'num4\\n',(num4))"
   ]
  },
  {
   "cell_type": "code",
   "execution_count": null,
   "metadata": {},
   "outputs": [],
   "source": []
  }
 ],
 "metadata": {
  "kernelspec": {
   "display_name": "Python 3",
   "language": "python",
   "name": "python3"
  },
  "language_info": {
   "codemirror_mode": {
    "name": "ipython",
    "version": 3
   },
   "file_extension": ".py",
   "mimetype": "text/x-python",
   "name": "python",
   "nbconvert_exporter": "python",
   "pygments_lexer": "ipython3",
   "version": "3.8.3"
  }
 },
 "nbformat": 4,
 "nbformat_minor": 4
}
