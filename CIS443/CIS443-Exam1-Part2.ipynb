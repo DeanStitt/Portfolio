{
 "cells": [
  {
   "cell_type": "markdown",
   "metadata": {},
   "source": [
    "# CIS 443 Exam 1, Part 2 Notebook\n",
    "## 35 pts.\n",
    "## Directions\n",
    "1. Add your Grading ID below.\n",
    "1. Answer each question in the cells provided.\n",
    "1. When finished, save your work, close the Jupyter Lab file, and Shut Down Jupyter Lab. You will upload this Jupyter Notebook file as your submission to Question 1 in Exam 1, Part 2 in Blackboard.\n",
    "1. Be sure to keep an unaltered version of this file just in case anything goes wrong in Blackboard.\n",
    "\n",
    "__Grading ID__: D8801 (double click the cell in Jupyter to edit)"
   ]
  },
  {
   "cell_type": "markdown",
   "metadata": {},
   "source": [
    "### Problem 1\n",
    "Write a Python code fragment in the code cell below that defines a function named `calc_qual_pts` that accepts a letter grade (a string) as a parameter and returns the GPA quality points, as specified below. If the grade is not one of the standard letter grades (A, B, C, D, F), return -1 to indicate this. Test the function with grades of \"A\", \"C\", and \"X\". (__8 pts.__)\n",
    "\n",
    "| Grade | Quality Points |\n",
    "| ----- | -------------- |\n",
    "| A     | 4.0            |\n",
    "| B     | 3.0            |\n",
    "| C     | 2.0            |\n",
    "| D     | 1.0            |\n",
    "| F     | 0.0            |\n",
    "| Otherwise | -1         |"
   ]
  },
  {
   "cell_type": "code",
   "execution_count": 1,
   "metadata": {},
   "outputs": [
    {
     "name": "stdin",
     "output_type": "stream",
     "text": [
      "Input Grade:  P\n"
     ]
    },
    {
     "name": "stdout",
     "output_type": "stream",
     "text": [
      "GPA =  -1\n"
     ]
    }
   ],
   "source": [
    "user_value = input(\"Input Grade: \")\n",
    "gpa = 0;\n",
    "def calc_qual_pts (user_value):\n",
    "    if user_value == \"A\":\n",
    "        gpa = 4.0;\n",
    "    elif user_value == \"B\":\n",
    "        gpa = 3.0;\n",
    "    elif user_value == \"C\":\n",
    "        gpa = 2.0;\n",
    "    elif user_value == \"D\":\n",
    "        gpa = 1.0;\n",
    "    elif user_value == \"F\":\n",
    "        gpa = 0.0;\n",
    "    else:\n",
    "        gpa = -1;\n",
    "    return gpa\n",
    "\n",
    "gpa = calc_qual_pts(user_value)\n",
    "print(\"GPA = \", gpa)"
   ]
  },
  {
   "cell_type": "markdown",
   "metadata": {},
   "source": [
    "### Problem 2\n",
    "Write a Python code fragment in the code cell below that prints the odd numbers (each on a separate line) from 1 - 29 (inclusive). Use whichever loop you prefer. (__4 pts.__)"
   ]
  },
  {
   "cell_type": "code",
   "execution_count": 83,
   "metadata": {},
   "outputs": [
    {
     "name": "stdout",
     "output_type": "stream",
     "text": [
      "1\n",
      "3\n",
      "5\n",
      "7\n",
      "9\n",
      "11\n",
      "13\n",
      "15\n",
      "17\n",
      "19\n",
      "21\n",
      "23\n",
      "25\n",
      "27\n",
      "29\n"
     ]
    }
   ],
   "source": [
    "for i in range(1, 29 + 1):\n",
    "    if i % 2:\n",
    "        print (f'{i}')\n"
   ]
  },
  {
   "cell_type": "markdown",
   "metadata": {},
   "source": [
    "### Problem 3\n",
    "Write a Python code fragment in the code cell below that inputs the year a car was manufactured (an integer) and outputs likely car safety features using a series of `if` statements. Allow the user to continue to enter car years until they enter a year less than 1885 (when the first car is thought to have been invented). If car's year is 1969 or earlier, print \"Few safety features.\" If 1970 or later, print \"Probably has seat belts.\" If 1990 or later, print \"Probably has antilock brakes.\" If 2000 or later, print \"Probably has airbags.\" End each phrase with a period and a newline. (__7 pts.__)\n",
    "\n",
    "Sample output for input: 1995\n",
    "\n",
    "`Probably has seat belts.`<br />\n",
    "`Probably has antilock brakes.`"
   ]
  },
  {
   "cell_type": "code",
   "execution_count": 93,
   "metadata": {},
   "outputs": [
    {
     "name": "stdin",
     "output_type": "stream",
     "text": [
      "Year car was manufactured:  2000\n"
     ]
    },
    {
     "name": "stdout",
     "output_type": "stream",
     "text": [
      "Probably has seat belts.\n",
      "Probably has antilock breaks\n",
      "Probably has airbags.\n"
     ]
    },
    {
     "name": "stdin",
     "output_type": "stream",
     "text": [
      "Year car was manufactured:  1888\n"
     ]
    },
    {
     "name": "stdout",
     "output_type": "stream",
     "text": [
      "Few safety features.\n",
      "\n"
     ]
    },
    {
     "name": "stdin",
     "output_type": "stream",
     "text": [
      "Year car was manufactured:  1777\n"
     ]
    }
   ],
   "source": [
    "user_value = int(input(\"Year car was manufactured: \"))\n",
    "while user_value > 1885:\n",
    "    if user_value <= 1969:\n",
    "        print(\"Few safety features.\\n\")\n",
    "    if user_value >= 1970:\n",
    "        print(\"Probably has seat belts.\")\n",
    "    if user_value >= 1990:\n",
    "        print(\"Probably has antilock breaks\")\n",
    "    if user_value >= 2000:\n",
    "        print(\"Probably has airbags.\")\n",
    "    user_value = int(input(\"Year car was manufactured: \"))"
   ]
  },
  {
   "cell_type": "markdown",
   "metadata": {},
   "source": [
    "### Problem 4\n",
    "Write a Python code fragment in the code cell below that defines a function named `factorial` that takes a non-negative integer as a parameter and returns the factorial of that number. Solve this by using a __for__ loop. This is an example of the accumulator pattern with a running product. Test your function with 0! (answer is 1) and 5! (answer is 120). You may assume that the parameter is a non-negative integer without testing for this. (__8 pts.__)\n",
    "\n",
    "Remember: n! = (1)x(2)x(3)x ... x(n-1)x(n)"
   ]
  },
  {
   "cell_type": "code",
   "execution_count": 99,
   "metadata": {},
   "outputs": [
    {
     "name": "stdin",
     "output_type": "stream",
     "text": [
      "Enter factorial 5\n"
     ]
    },
    {
     "name": "stdout",
     "output_type": "stream",
     "text": [
      "Factorial of 5 is 120\n"
     ]
    }
   ],
   "source": [
    "user_input = int(input(\"Enter factorial\"))\n",
    "def factorial(user_input):\n",
    "    result = 1\n",
    "    for i in range(user_input):\n",
    "        if (user_input-i) > 0:\n",
    "            result = result * (user_input - i)\n",
    "    return result\n",
    "result = factorial(user_input)\n",
    "print(f\"Factorial of {user_input} is {result}\")"
   ]
  },
  {
   "cell_type": "markdown",
   "metadata": {},
   "source": [
    "### Problem 5\n",
    "Write a Python code fragment in the code cell below that uses a loop to input 5 weights (float values) and store them in a list. Output the list (on one line) followed by the minimum weight, maximum weight, and average (mean) weight each on a separate line. Format the minimum, maximum, and average weights using an f-string with 2 digits of precision. (__8 pts.__)"
   ]
  },
  {
   "cell_type": "code",
   "execution_count": 2,
   "metadata": {},
   "outputs": [
    {
     "name": "stdin",
     "output_type": "stream",
     "text": [
      " 100\n",
      " 150\n",
      " 200\n",
      " 250\n",
      " 300\n"
     ]
    },
    {
     "name": "stdout",
     "output_type": "stream",
     "text": [
      "[100.0, 150.0, 200.0, 250.0, 300.0]\n",
      " Min 100.00\n",
      " Max 300.00\n",
      " Mean 200.00\n"
     ]
    }
   ],
   "source": [
    "from statistics import mean\n",
    "list = []  \n",
    "for i in range(0, 5): \n",
    "    value = float(input()) \n",
    "    list.append(value) \n",
    "print(f'{list}\\n Min {min(list):0.2f}\\n Max {max(list):0.2f}\\n Mean {mean(list):0.2f}') "
   ]
  },
  {
   "cell_type": "code",
   "execution_count": null,
   "metadata": {},
   "outputs": [],
   "source": []
  }
 ],
 "metadata": {
  "kernelspec": {
   "display_name": "Python 3",
   "language": "python",
   "name": "python3"
  },
  "language_info": {
   "codemirror_mode": {
    "name": "ipython",
    "version": 3
   },
   "file_extension": ".py",
   "mimetype": "text/x-python",
   "name": "python",
   "nbconvert_exporter": "python",
   "pygments_lexer": "ipython3",
   "version": "3.8.3"
  }
 },
 "nbformat": 4,
 "nbformat_minor": 4
}
