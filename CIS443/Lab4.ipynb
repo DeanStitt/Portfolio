{
 "cells": [
  {
   "cell_type": "markdown",
   "metadata": {},
   "source": [
    "# CIS 443-01 - Analytics Programming\n",
    "## Lab 4\n",
    "__Grading ID__: D8801(double click the cell in Jupyter to edit)<br>\n",
    "__Due__: Monday, October 19 (by 11:59 PM)<br />\n",
    "__Worth__: 25 pts."
   ]
  },
  {
   "cell_type": "markdown",
   "metadata": {},
   "source": [
    "### Directions\n",
    "In the code cell below, write Python code to complete __Exercise 6.7__, p. 235 (Character Counts) Recall that strings are sequences of characters. Use techniques similar to Fig. 6.2 to write a script that inputs a sentence from the user, then uses a dictionary to summarize the number of occurrences of each letter. Ignore case, ignore blanks and assume the user does not enter any punctuation. Display a two-column table of the letters and their counts with the letters in sorted order. Finally, use a set operation to determine which letters of the alphabet were not in the original string and print this result, as well. Test your source code and save your work before submission. (25 pts.)"
   ]
  },
  {
   "cell_type": "code",
   "execution_count": 3,
   "metadata": {},
   "outputs": [
    {
     "name": "stdout",
     "output_type": "stream",
     "text": [
      "Char        Count\n",
      "d           1\n",
      "e           4\n",
      "f           1\n",
      "h           3\n",
      "i           1\n",
      "l           2\n",
      "m           1\n",
      "o           3\n",
      "r           2\n",
      "s           1\n",
      "t           2\n",
      "\n",
      "Number of unique chars: 11\n",
      "\n",
      "Not used in string\n",
      "['a', 'b', 'c', 'g', 'j', 'k', 'n', 'p', 'q', 'u', 'v', 'w', 'x', 'y', 'z']\n"
     ]
    }
   ],
   "source": [
    "text = (\"Hello from the other side\")\n",
    "\n",
    "text = text.replace (\" \", \"\")\n",
    "\n",
    "text = text.lower()\n",
    "\n",
    "text1 = set(text)\n",
    "\n",
    "char_counts = {}\n",
    "\n",
    "abc = {'a','b','c','d','e','f','g','h','i','j','k','l','m','n','o','p','q','r','s','t','u','v','w','x','y','z'}\n",
    "\n",
    "for char in text:\n",
    "    if char in char_counts:\n",
    "        char_counts[char] += 1\n",
    "    else:\n",
    "        char_counts[char] = 1\n",
    "        \n",
    "print (f'{\"Char\":<12}Count')\n",
    "\n",
    "for char, count in sorted(char_counts.items()):\n",
    "    print(f'{char:<12}{count}')\n",
    "    \n",
    "print('\\nNumber of unique chars:', len(char_counts))\n",
    "        \n",
    "print (\"\\nNot used in string\")   \n",
    "\n",
    "print(sorted(abc.difference(text1)))\n",
    "        \n",
    "\n",
    "        "
   ]
  },
  {
   "cell_type": "markdown",
   "metadata": {},
   "source": [
    "Be sure to save and exit your Jupyter Notebook and Shutdown Jupyter Lab (from the __File__ menu) before you submit your notebook on Blackboard for grading."
   ]
  },
  {
   "cell_type": "code",
   "execution_count": null,
   "metadata": {},
   "outputs": [],
   "source": []
  }
 ],
 "metadata": {
  "kernelspec": {
   "display_name": "Python 3",
   "language": "python",
   "name": "python3"
  },
  "language_info": {
   "codemirror_mode": {
    "name": "ipython",
    "version": 3
   },
   "file_extension": ".py",
   "mimetype": "text/x-python",
   "name": "python",
   "nbconvert_exporter": "python",
   "pygments_lexer": "ipython3",
   "version": "3.8.3"
  }
 },
 "nbformat": 4,
 "nbformat_minor": 4
}
