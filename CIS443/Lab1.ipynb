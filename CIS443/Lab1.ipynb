{
 "cells": [
  {
   "cell_type": "markdown",
   "metadata": {},
   "source": [
    "# CIS 443-01 - Analytics Programming\n",
    "## Lab 1\n",
    "__Grading ID__: D8801 (double click the cell in Jupyter to edit)<br>\n",
    "__Due__: Monday, August 31 (by 11:59 PM)<br />\n",
    "__Worth__: 25 pts."
   ]
  },
  {
   "cell_type": "markdown",
   "metadata": {},
   "source": [
    "### Directions\n",
    "In the code cell below, write Python code to accomplish the following using what you've learned through Chapter 2. Prompt the user to enter a whole dollar amount (from 1 - 99 for this application) to be withdrawn from our virtual ATM. For the moment, you may assume that the user follows your directions for the input. Calculate and print the number of bills of each denomination (twenties, tens, fives, and ones) that should be dispensed, minimizing the total number of bills used. Start with twenties and work your way down to ones. If no bills of a particular denomination are needed, skip that bill in the output. (25 pts.)\n",
    "### Sample Output\n",
    "<div class=\"alert alert-block alert-info\">\n",
    "    Welcome to the CIS 443 Virtual ATM!<br />\n",
    "    Enter whole dollar amount (1 - 99): 94<br /><br />\n",
    "    Dispense:<br />\n",
    "    4 twenties<br />\n",
    "    1 tens<br />\n",
    "    4 ones<br />\n",
    "</div>"
   ]
  },
  {
   "cell_type": "code",
   "execution_count": 1,
   "metadata": {},
   "outputs": [
    {
     "name": "stdin",
     "output_type": "stream",
     "text": [
      "Welcome to Bank Jupyter\n",
      "To make a withdraw enter amount (1-99) *Must be in whole dollars  51\n"
     ]
    },
    {
     "name": "stdout",
     "output_type": "stream",
     "text": [
      "Dispense:\n",
      "Number of Twenties 2\n",
      "Number of Ten 1\n",
      "Number of Ones 1\n"
     ]
    }
   ],
   "source": [
    "user_value = int(input(\"Welcome to Bank Jupyter\\nTo make a withdraw enter amount (1-99) *Must be in whole dollars \"))\n",
    "print(\"Dispense:\")\n",
    "total_twenty = user_value//20\n",
    "if total_twenty > 0:\n",
    "    print(\"Number of Twenties\",total_twenty)\n",
    "user_value = (user_value-(20*total_twenty))\n",
    "total_ten = user_value//10\n",
    "if total_ten > 0:\n",
    "    print(\"Number of Ten\",total_ten)\n",
    "user_value = (user_value-(10*total_ten))\n",
    "total_five = user_value//5\n",
    "if total_five > 0:\n",
    "    print(\"Number of Fives\",total_five)\n",
    "user_value =(user_value-(5*total_five))\n",
    "total_one = user_value//1\n",
    "if total_one > 0:\n",
    "    print(\"Number of Ones\",total_one)\n"
   ]
  },
  {
   "cell_type": "markdown",
   "metadata": {},
   "source": [
    "Be sure to save and exit your Jupyter Notebook and Shutdown Jupyter Lab (from the __File__ menu) before you submit your notebook on Blackboard for grading."
   ]
  }
 ],
 "metadata": {
  "kernelspec": {
   "display_name": "Python 3",
   "language": "python",
   "name": "python3"
  },
  "language_info": {
   "codemirror_mode": {
    "name": "ipython",
    "version": 3
   },
   "file_extension": ".py",
   "mimetype": "text/x-python",
   "name": "python",
   "nbconvert_exporter": "python",
   "pygments_lexer": "ipython3",
   "version": "3.8.3"
  }
 },
 "nbformat": 4,
 "nbformat_minor": 4
}
