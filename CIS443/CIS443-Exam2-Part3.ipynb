{
 "cells": [
  {
   "cell_type": "markdown",
   "metadata": {},
   "source": [
    "# CIS 443 Exam 2, Part 3 Notebook\n",
    "## 15 pts.\n",
    "## Directions\n",
    "1. Add your Grading ID below.\n",
    "1. Answer the question in the cell provided.\n",
    "1. When finished, save your work, close the Jupyter Lab file, and Shut Down Jupyter Lab. You will upload this Jupyter Notebook file as your submission for Exam 2, Part 3 in Blackboard.\n",
    "1. Be sure to keep an unaltered version of this file just in case anything goes wrong in Blackboard.\n",
    "\n",
    "__Grading ID__: D8801 (double click the cell in Jupyter to edit)"
   ]
  },
  {
   "cell_type": "markdown",
   "metadata": {},
   "source": [
    "Standard telephone keypads contain the digits zero through nine. The numbers two through nine each have 3-4 letters associated with them, as shown in the following table:\n",
    "\n",
    "|Digit|Letters|\n",
    "|-----|-------|\n",
    "|2|ABC|\n",
    "|3|DEF|\n",
    "|4|GHI|\n",
    "|5|JKL|\n",
    "|6|MNO|\n",
    "|7|PQRS|\n",
    "|8|TUV|\n",
    "|9|WXYZ|\n",
    "\n",
    "Many people find it difficult to memorize phone numbers, so they use the correspondence between digits and letters to develop seven-letter words (or phrases) that correspond to their phone numbers. Every seven-letter word or phrase corresponds to exactly one seven-digit telephone number. A budding data science entrepreneur might like to reserve the phone number 244-3282 (“BIGDATA”), for example.\n",
    "\n",
    "Write a Python code fragment in the code cell below that inputs a seven-letter string (such as _BIGDATA_) and outputs the corresponding phone number that is associated with it. You may assume the that the input will consist of exactly seven alphabet letters but the case of the letters should not matter. (__15 pts.__)\n",
    "\n",
    "__Extra Credit__<br />\n",
    "For an extra 2 points, validate the input to ensure that it only consists of seven alphabet letters. Display an error message if it does not. (__2 pts. Extra Credit__)"
   ]
  },
  {
   "cell_type": "code",
   "execution_count": 1,
   "metadata": {},
   "outputs": [
    {
     "name": "stdout",
     "output_type": "stream",
     "text": [
      "Enter your 7 letter number: bigdata\n",
      "244-3282\n"
     ]
    }
   ],
   "source": [
    "num = input('Enter your 7 letter number: ')\n",
    "num = num.lower()\n",
    "result = (\"\")\n",
    "inalph = num.isalpha()\n",
    "while (inalph == False):\n",
    "    num = input('Only enter letters in alphabet. Enter your 7 letter number: ')\n",
    "    inalph = num.isalpha()\n",
    "while (len(num) > 7):\n",
    "    num = input('String has more than 7 letters, Enter your 7 letter number: ')\n",
    "diction = {'a': '2', 'b': '2', 'c': '2','d': '3', 'e': '3', 'f': '3','g': '4', 'h': '4', 'i': '4','j': '5', 'k': '5', 'l': '5','m': '6', 'n': '6', 'o': '6','p': '7', 'q': '7', 'r': '7', 's': '7','t': '8', 'u': '8','v': '8', 'w': '9', 'x': '9', 'y': '9', 'z': '9'}\n",
    "c = 1\n",
    "for i in num:\n",
    "    if c < 8:\n",
    "        result += (diction[i])\n",
    "        c += 1\n",
    "print(result[0:3]+\"-\"+result[3:])"
   ]
  },
  {
   "cell_type": "code",
   "execution_count": null,
   "metadata": {},
   "outputs": [],
   "source": []
  }
 ],
 "metadata": {
  "kernelspec": {
   "display_name": "Python 3",
   "language": "python",
   "name": "python3"
  },
  "language_info": {
   "codemirror_mode": {
    "name": "ipython",
    "version": 3
   },
   "file_extension": ".py",
   "mimetype": "text/x-python",
   "name": "python",
   "nbconvert_exporter": "python",
   "pygments_lexer": "ipython3",
   "version": "3.8.3"
  }
 },
 "nbformat": 4,
 "nbformat_minor": 4
}
